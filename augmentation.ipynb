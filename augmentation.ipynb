{
 "cells": [
  {
   "cell_type": "code",
   "execution_count": 1,
   "metadata": {},
   "outputs": [
    {
     "name": "stderr",
     "output_type": "stream",
     "text": [
      "/home/smartai/anaconda3/envs/seg/lib/python3.6/site-packages/tqdm/auto.py:22: TqdmWarning: IProgress not found. Please update jupyter and ipywidgets. See https://ipywidgets.readthedocs.io/en/stable/user_install.html\n",
      "  from .autonotebook import tqdm as notebook_tqdm\n"
     ]
    }
   ],
   "source": [
    "\n",
    "import os\n",
    "import cv2\n",
    "from tqdm import tqdm\n",
    "#from demo.image_matting.colab.inference2 import run\n",
    "import numpy as np\n",
    "from collections import Counter\n",
    "import argparse\n",
    "import torchvision.transforms.functional as TF\n",
    "import configparser\n",
    "from PIL import Image\n",
    "\n"
   ]
  },
  {
   "cell_type": "code",
   "execution_count": 3,
   "metadata": {},
   "outputs": [
    {
     "name": "stdout",
     "output_type": "stream",
     "text": [
      "r_cut_lilpa.mp4 data augmentation start\n"
     ]
    },
    {
     "name": "stderr",
     "output_type": "stream",
     "text": [
      " 80%|███████▉  | 363/454 [00:22<00:04, 19.08it/s]"
     ]
    },
    {
     "name": "stdout",
     "output_type": "stream",
     "text": [
      "r_cut_lilpa.mp4 .DS_Store Exception occur\n"
     ]
    },
    {
     "name": "stderr",
     "output_type": "stream",
     "text": [
      "100%|██████████| 454/454 [00:28<00:00, 15.91it/s]\n"
     ]
    },
    {
     "ename": "NotADirectoryError",
     "evalue": "[Errno 20] Not a directory: '/data/codes/data/dataset/r_cut_lilpa.mp4/.DS_Store/Masks'",
     "output_type": "error",
     "traceback": [
      "\u001b[0;31m---------------------------------------------------------------------------\u001b[0m",
      "\u001b[0;31mNotADirectoryError\u001b[0m                        Traceback (most recent call last)",
      "\u001b[0;32m<ipython-input-3-bbe39b7b8742>\u001b[0m in \u001b[0;36m<module>\u001b[0;34m()\u001b[0m\n\u001b[1;32m     12\u001b[0m     \u001b[0;32mfor\u001b[0m \u001b[0mnum\u001b[0m \u001b[0;32min\u001b[0m \u001b[0mos\u001b[0m\u001b[0;34m.\u001b[0m\u001b[0mlistdir\u001b[0m\u001b[0;34m(\u001b[0m\u001b[0mos\u001b[0m\u001b[0;34m.\u001b[0m\u001b[0mpath\u001b[0m\u001b[0;34m.\u001b[0m\u001b[0mjoin\u001b[0m\u001b[0;34m(\u001b[0m\u001b[0mori_dir\u001b[0m\u001b[0;34m,\u001b[0m\u001b[0mfolder\u001b[0m\u001b[0;34m)\u001b[0m\u001b[0;34m)\u001b[0m\u001b[0;34m:\u001b[0m\u001b[0;34m\u001b[0m\u001b[0;34m\u001b[0m\u001b[0m\n\u001b[1;32m     13\u001b[0m \u001b[0;34m\u001b[0m\u001b[0m\n\u001b[0;32m---> 14\u001b[0;31m         \u001b[0mfiles\u001b[0m \u001b[0;34m=\u001b[0m \u001b[0mos\u001b[0m\u001b[0;34m.\u001b[0m\u001b[0mlistdir\u001b[0m\u001b[0;34m(\u001b[0m\u001b[0mos\u001b[0m\u001b[0;34m.\u001b[0m\u001b[0mpath\u001b[0m\u001b[0;34m.\u001b[0m\u001b[0mjoin\u001b[0m\u001b[0;34m(\u001b[0m\u001b[0mori_dir\u001b[0m\u001b[0;34m,\u001b[0m\u001b[0mfolder\u001b[0m\u001b[0;34m,\u001b[0m\u001b[0mnum\u001b[0m\u001b[0;34m,\u001b[0m\u001b[0;34m\"Masks\"\u001b[0m\u001b[0;34m)\u001b[0m\u001b[0;34m)\u001b[0m\u001b[0;34m\u001b[0m\u001b[0;34m\u001b[0m\u001b[0m\n\u001b[0m\u001b[1;32m     15\u001b[0m         \u001b[0;32mif\u001b[0m \u001b[0;32mnot\u001b[0m\u001b[0;34m(\u001b[0m\u001b[0mos\u001b[0m\u001b[0;34m.\u001b[0m\u001b[0mpath\u001b[0m\u001b[0;34m.\u001b[0m\u001b[0mexists\u001b[0m\u001b[0;34m(\u001b[0m\u001b[0mos\u001b[0m\u001b[0;34m.\u001b[0m\u001b[0mpath\u001b[0m\u001b[0;34m.\u001b[0m\u001b[0mjoin\u001b[0m\u001b[0;34m(\u001b[0m\u001b[0maug_dir\u001b[0m\u001b[0;34m,\u001b[0m\u001b[0mfolder\u001b[0m\u001b[0;34m,\u001b[0m\u001b[0;34m\"Images\"\u001b[0m\u001b[0;34m)\u001b[0m\u001b[0;34m)\u001b[0m\u001b[0;34m)\u001b[0m\u001b[0;34m:\u001b[0m\u001b[0;34m\u001b[0m\u001b[0;34m\u001b[0m\u001b[0m\n\u001b[1;32m     16\u001b[0m             \u001b[0mos\u001b[0m\u001b[0;34m.\u001b[0m\u001b[0msystem\u001b[0m\u001b[0;34m(\u001b[0m\u001b[0;34m'mkdir -p '\u001b[0m\u001b[0;34m+\u001b[0m\u001b[0mos\u001b[0m\u001b[0;34m.\u001b[0m\u001b[0mpath\u001b[0m\u001b[0;34m.\u001b[0m\u001b[0mjoin\u001b[0m\u001b[0;34m(\u001b[0m\u001b[0maug_dir\u001b[0m\u001b[0;34m,\u001b[0m\u001b[0mfolder\u001b[0m\u001b[0;34m,\u001b[0m\u001b[0;34m\"Images\"\u001b[0m\u001b[0;34m)\u001b[0m\u001b[0;34m)\u001b[0m\u001b[0;34m\u001b[0m\u001b[0;34m\u001b[0m\u001b[0m\n",
      "\u001b[0;31mNotADirectoryError\u001b[0m: [Errno 20] Not a directory: '/data/codes/data/dataset/r_cut_lilpa.mp4/.DS_Store/Masks'"
     ]
    }
   ],
   "source": [
    "\n",
    "import os\n",
    "import cv2\n",
    "from tqdm import tqdm\n",
    "#from demo.image_matting.colab.inference2 import run\n",
    "import numpy as np\n",
    "from collections import Counter\n",
    "import argparse\n",
    "import torchvision.transforms.functional as TF\n",
    "import configparser\n",
    "from PIL import Image\n",
    "\n",
    "ori_dir = '/data/codes/data/dataset'\n",
    "aug_dir = '/data/codes/data/augmen'\n",
    "\n",
    "folders = os.listdir(ori_dir)\n",
    "\n",
    "\n",
    "for folder in folders:\n",
    "\n",
    "    print(folder,'data augmentation start')\n",
    "\n",
    "    for num in os.listdir(os.path.join(ori_dir,folder)):\n",
    "        if 'DS_Store' in num:\n",
    "            continue\n",
    "        files = os.listdir(os.path.join(ori_dir,folder,num,\"Masks\"))\n",
    "        if not(os.path.exists(os.path.join(aug_dir,folder,\"Images\"))):\n",
    "            os.system('mkdir -p '+os.path.join(aug_dir,folder,\"Images\"))\n",
    "\n",
    "        if not(os.path.exists(os.path.join(aug_dir,folder,\"Masks\"))):\n",
    "            os.system('mkdir -p '+os.path.join(aug_dir,folder,\"Masks\"))\n",
    "\n",
    "        for idx in tqdm(range(len(files))):\n",
    "            img = cv2.imread(os.path.join(ori_dir,folder,num,\"Images\",files[idx][:-3]+'jpg'))      \n",
    "            try :  \n",
    "                pil_image = Image.fromarray(img)\n",
    "            except :\n",
    "                print(folder,files[idx],\"Exception occur\")\n",
    "                continue\n",
    "            flip_img = TF.hflip(pil_image)\n",
    "            bright_img=TF.adjust_brightness(pil_image,0.7)\n",
    "            cont_img=TF.adjust_contrast(pil_image,0.8)\n",
    "            crop_img = img[100:,100:]\n",
    "            cv2.imwrite(os.path.join(aug_dir,folder,\"Images\",'ori_%s_%sjpg'%(num,files[idx][:-3])),img)\n",
    "            cv2.imwrite(os.path.join(aug_dir,folder,\"Images\",'flip_%s_%sjpg'%(num,files[idx][:-3])),np.array(flip_img))\n",
    "            cv2.imwrite(os.path.join(aug_dir,folder,\"Images\",'bri_%s_%sjpg'%(num,files[idx][:-3])),np.array(bright_img))\n",
    "            cv2.imwrite(os.path.join(aug_dir,folder,\"Images\",'cont_%s_%sjpg'%(num,files[idx][:-3])),np.array(cont_img))\n",
    "            cv2.imwrite(os.path.join(aug_dir,folder,\"Images\",'crop_%s_%sjpg'%(num,files[idx][:-3])),crop_img)\n",
    "\n",
    "\n",
    "\n",
    "            img = cv2.imread(os.path.join(ori_dir,folder,num,\"Masks\",files[idx]))\n",
    "            pil_image = Image.fromarray(img)\n",
    "            flip_img = TF.hflip(pil_image)\n",
    "            bright_img=TF.adjust_brightness(pil_image,0.7)\n",
    "            cont_img=TF.adjust_contrast(pil_image,0.8)\n",
    "            crop_img = img[100:,100:]\n",
    "            cv2.imwrite(os.path.join(aug_dir,folder,\"Masks\",'ori_%s_%spng'%(num,files[idx][:-3])),img)\n",
    "            cv2.imwrite(os.path.join(aug_dir,folder,\"Masks\",'flip_%s_%spng'%(num,files[idx][:-3])),np.array(flip_img))\n",
    "            cv2.imwrite(os.path.join(aug_dir,folder,\"Masks\",'bri_%s_%spng'%(num,files[idx][:-3])),np.array(bright_img))\n",
    "            cv2.imwrite(os.path.join(aug_dir,folder,\"Masks\",'cont_%s_%spng'%(num,files[idx][:-3])),np.array(cont_img))\n",
    "            cv2.imwrite(os.path.join(aug_dir,folder,\"Masks\",'crop_%s_%spng'%(num,files[idx][:-3])),crop_img)\n"
   ]
  },
  {
   "cell_type": "code",
   "execution_count": 4,
   "metadata": {},
   "outputs": [
    {
     "data": {
      "text/plain": [
       "'.DS_Store'"
      ]
     },
     "execution_count": 4,
     "metadata": {},
     "output_type": "execute_result"
    }
   ],
   "source": []
  },
  {
   "cell_type": "code",
   "execution_count": null,
   "metadata": {},
   "outputs": [],
   "source": []
  }
 ],
 "metadata": {
  "interpreter": {
   "hash": "f2b0f1ca3ae97056a10543d911e58795417edb3447a9e6ec5f9a5cb42d6c1abf"
  },
  "kernelspec": {
   "display_name": "Python 3.6.13 ('seg')",
   "language": "python",
   "name": "python3"
  },
  "language_info": {
   "codemirror_mode": {
    "name": "ipython",
    "version": 3
   },
   "file_extension": ".py",
   "mimetype": "text/x-python",
   "name": "python",
   "nbconvert_exporter": "python",
   "pygments_lexer": "ipython3",
   "version": "3.6.13"
  },
  "orig_nbformat": 4
 },
 "nbformat": 4,
 "nbformat_minor": 2
}
