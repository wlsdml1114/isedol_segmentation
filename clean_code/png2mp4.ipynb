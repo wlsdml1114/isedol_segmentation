{
 "cells": [
  {
   "cell_type": "code",
   "execution_count": 1,
   "metadata": {},
   "outputs": [],
   "source": [
    "import os\n",
    "import cv2\n",
    "from tqdm import tqdm\n",
    "import numpy as np\n",
    "import argparse\n",
    "import datetime\n",
    "import requests\n",
    "from collections import Counter\n",
    "\n",
    "def find_max_connected_component(img):\n",
    "\n",
    "    temp = cv2.threshold(img,127,255,cv2.THRESH_BINARY)[1]\n",
    "\n",
    "    labels, ims = cv2.connectedComponents(temp[:,:,0])\n",
    "\n",
    "    res = Counter(ims.flatten())\n",
    "    res.pop(0,None)\n",
    "    max_key = max(res,key = res.get)\n",
    "\n",
    "    ims[ims!=max_key] = 0\n",
    "    ims[ims==max_key] = 255\n",
    "    return ims\n",
    "\n",
    "\n",
    "kernel = np.ones((7,7),np.float32)/49\n"
   ]
  },
  {
   "cell_type": "code",
   "execution_count": null,
   "metadata": {},
   "outputs": [],
   "source": [
    "idx = 1000\n",
    "temp = cv2.imread(os.path.join('/home/jini1114/git/data/segmentation/r_cut_ine.mp4/%d.png'%(idx)))\n",
    "temp[temp>150] = 255\n",
    "temp[temp<=150] = 0\n",
    "try :\n",
    "    maximg = find_max_connected_component(temp)\n",
    "except :\n",
    "    maximg = temp[:,:,0]\n",
    "\n",
    "gray = maximg\n",
    "res = cv2.findContours(gray.astype(np.uint8), cv2.RETR_EXTERNAL, cv2.CHAIN_APPROX_NONE)\n",
    "contours = res[-2]\n",
    "area = []\n",
    "for i in range(len(contours)):\n",
    "    area.append(cv2.contourArea(contours[i]))\n",
    "try:\n",
    "    idx = np.where(np.max(area)==area)[0][0]\n",
    "except :\n",
    "    pass\n",
    "try:\n",
    "    cv2.drawContours(gray, contours, contourIdx=idx, color=(255,255,255),thickness=-1)\n",
    "    dst = cv2.filter2D(gray,-1,kernel)\n",
    "except :\n",
    "    dst = gray\n"
   ]
  },
  {
   "cell_type": "code",
   "execution_count": 3,
   "metadata": {},
   "outputs": [
    {
     "data": {
      "text/plain": [
       "<matplotlib.image.AxesImage at 0x7f01cdbac710>"
      ]
     },
     "execution_count": 3,
     "metadata": {},
     "output_type": "execute_result"
    },
    {
     "data": {
      "image/png": "[encoded data removed]",
      "text/plain": [
       "<Figure size 432x288 with 1 Axes>"
      ]
     },
     "metadata": {
      "needs_background": "light"
     },
     "output_type": "display_data"
    }
   ],
   "source": [
    "import matplotlib.pyplot as plt\n",
    "temp = cv2.imread(os.path.join('/home/jini1114/git/data/temp/r_cut_lilpa.mp4/','%d.png'%(1000)))\n",
    "plt.imshow(temp)"
   ]
  },
  {
   "cell_type": "code",
   "execution_count": null,
   "metadata": {},
   "outputs": [],
   "source": [
    "seg_dir = '/home/jini1114/git/data/temp/r_cut_lilpa.mp4/'\n",
    "frames = []\n",
    "\n",
    "files = os.listdir(seg_dir)\n",
    "for idx in range(len(files)):\n",
    "    temp = cv2.imread(os.path.join(seg_dir,'%d.png'%(idx)))\n",
    "    temp[temp>125] = 255\n",
    "    temp[temp<=125] = 0\n",
    "\n",
    "    dst = cv2.filter2D(temp,-1,kernel)\n",
    "\n",
    "    frames.append(dst)\n",
    "\n",
    "h,w,l = dst.shape\n",
    "size = (w,h)\n",
    "\n",
    "output = cv2.VideoWriter(os.path.join(out_dir,'seg_filter_'+origin_file_name),cv2.VideoWriter_fourcc(*'DIVX'),fps,size)\n",
    "\n",
    "for i in tqdm(range(len(frames)),desc = 'mp4 making'):\n",
    "    output.write(frames[i])\n",
    "\n",
    "output.release()"
   ]
  }
 ],
 "metadata": {
  "interpreter": {
   "hash": "b15448ea699fca3ef968e46ccc7c03b1e0bb6c8384b306cbbe852e822367af1b"
  },
  "kernelspec": {
   "display_name": "Python 3.6.13 ('hair_task')",
   "language": "python",
   "name": "python3"
  },
  "language_info": {
   "codemirror_mode": {
    "name": "ipython",
    "version": 3
   },
   "file_extension": ".py",
   "mimetype": "text/x-python",
   "name": "python",
   "nbconvert_exporter": "python",
   "pygments_lexer": "ipython3",
   "version": "3.6.13"
  },
  "orig_nbformat": 4
 },
 "nbformat": 4,
 "nbformat_minor": 2
}
