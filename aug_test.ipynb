{
 "cells": [
  {
   "cell_type": "code",
   "execution_count": 3,
   "metadata": {},
   "outputs": [],
   "source": [
    "from configparser import Interpolation\n",
    "import os\n",
    "import cv2\n",
    "from tqdm import tqdm\n",
    "#from demo.image_matting.colab.inference2 import run\n",
    "import numpy as np\n",
    "from collections import Counter\n",
    "import argparse\n",
    "import configparser\n",
    "import matplotlib.pyplot as plt\n"
   ]
  },
  {
   "cell_type": "code",
   "execution_count": 2,
   "metadata": {},
   "outputs": [],
   "source": [
    "img = cv2.imread('/home/jini1114/git/data/dataset/data/r_cut_주르르.mp4/Images/7526.jpg')"
   ]
  },
  {
   "cell_type": "code",
   "execution_count": null,
   "metadata": {},
   "outputs": [],
   "source": []
  }
 ],
 "metadata": {
  "interpreter": {
   "hash": "b15448ea699fca3ef968e46ccc7c03b1e0bb6c8384b306cbbe852e822367af1b"
  },
  "kernelspec": {
   "display_name": "Python 3.6.13 ('hair_task')",
   "language": "python",
   "name": "python3"
  },
  "language_info": {
   "codemirror_mode": {
    "name": "ipython",
    "version": 3
   },
   "file_extension": ".py",
   "mimetype": "text/x-python",
   "name": "python",
   "nbconvert_exporter": "python",
   "pygments_lexer": "ipython3",
   "version": "3.6.13"
  },
  "orig_nbformat": 4
 },
 "nbformat": 4,
 "nbformat_minor": 2
}
